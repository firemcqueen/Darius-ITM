{
 "cells": [
  {
   "cell_type": "code",
   "execution_count": 1,
   "id": "65902404-3af1-4fad-943e-a5dd7ded65bb",
   "metadata": {},
   "outputs": [
    {
     "name": "stdout",
     "output_type": "stream",
     "text": [
      "Requirement already satisfied: requests in /Users/dariuscruz/anaconda3/lib/python3.10/site-packages (2.28.1)\n",
      "Requirement already satisfied: idna<4,>=2.5 in /Users/dariuscruz/anaconda3/lib/python3.10/site-packages (from requests) (3.4)\n",
      "Requirement already satisfied: urllib3<1.27,>=1.21.1 in /Users/dariuscruz/anaconda3/lib/python3.10/site-packages (from requests) (1.26.14)\n",
      "Requirement already satisfied: certifi>=2017.4.17 in /Users/dariuscruz/anaconda3/lib/python3.10/site-packages (from requests) (2023.5.7)\n",
      "Requirement already satisfied: charset-normalizer<3,>=2 in /Users/dariuscruz/anaconda3/lib/python3.10/site-packages (from requests) (2.0.4)\n",
      "Note: you may need to restart the kernel to use updated packages.\n"
     ]
    }
   ],
   "source": [
    "pip install requests"
   ]
  },
  {
   "cell_type": "code",
   "execution_count": 2,
   "id": "b449bab8-cbc4-4261-aba1-f79d7d24d773",
   "metadata": {},
   "outputs": [
    {
     "name": "stdout",
     "output_type": "stream",
     "text": [
      "Requirement already satisfied: matplotlib in /Users/dariuscruz/anaconda3/lib/python3.10/site-packages (3.7.0)\n",
      "Requirement already satisfied: pyparsing>=2.3.1 in /Users/dariuscruz/anaconda3/lib/python3.10/site-packages (from matplotlib) (3.0.9)\n",
      "Requirement already satisfied: fonttools>=4.22.0 in /Users/dariuscruz/anaconda3/lib/python3.10/site-packages (from matplotlib) (4.25.0)\n",
      "Requirement already satisfied: pillow>=6.2.0 in /Users/dariuscruz/anaconda3/lib/python3.10/site-packages (from matplotlib) (9.4.0)\n",
      "Requirement already satisfied: numpy>=1.20 in /Users/dariuscruz/anaconda3/lib/python3.10/site-packages (from matplotlib) (1.23.5)\n",
      "Requirement already satisfied: contourpy>=1.0.1 in /Users/dariuscruz/anaconda3/lib/python3.10/site-packages (from matplotlib) (1.0.5)\n",
      "Requirement already satisfied: cycler>=0.10 in /Users/dariuscruz/anaconda3/lib/python3.10/site-packages (from matplotlib) (0.11.0)\n",
      "Requirement already satisfied: packaging>=20.0 in /Users/dariuscruz/anaconda3/lib/python3.10/site-packages (from matplotlib) (22.0)\n",
      "Requirement already satisfied: kiwisolver>=1.0.1 in /Users/dariuscruz/anaconda3/lib/python3.10/site-packages (from matplotlib) (1.4.4)\n",
      "Requirement already satisfied: python-dateutil>=2.7 in /Users/dariuscruz/anaconda3/lib/python3.10/site-packages (from matplotlib) (2.8.2)\n",
      "Requirement already satisfied: six>=1.5 in /Users/dariuscruz/anaconda3/lib/python3.10/site-packages (from python-dateutil>=2.7->matplotlib) (1.16.0)\n",
      "Note: you may need to restart the kernel to use updated packages.\n"
     ]
    }
   ],
   "source": [
    "pip install matplotlib"
   ]
  },
  {
   "cell_type": "code",
   "execution_count": 16,
   "id": "e0ddc4ae-c7a4-4dd7-a79f-ea6fddbfb033",
   "metadata": {},
   "outputs": [
    {
     "name": "stdout",
     "output_type": "stream",
     "text": [
      "34.8042 70.1159 1689516472\n",
      "34.8678 70.1991 1689516474\n",
      "34.9101 70.2547 1689516475\n",
      "34.9736 70.3381 1689516476\n",
      "35.037 70.4217 1689516478\n",
      "35.1003 70.5054 1689516479\n",
      "35.1636 70.5893 1689516481\n",
      "35.2267 70.6733 1689516482\n",
      "35.2899 70.7574 1689516484\n",
      "35.3529 70.8417 1689516485\n",
      "35.4159 70.9262 1689516487\n",
      "35.4789 71.0107 1689516488\n",
      "35.5208 71.0672 1689516489\n",
      "35.5836 71.152 1689516491\n",
      "35.6464 71.237 1689516492\n",
      "35.7091 71.3221 1689516494\n",
      "35.7717 71.4073 1689516495\n",
      "35.8342 71.4927 1689516497\n",
      "35.8967 71.5783 1689516498\n",
      "35.9383 71.6354 1689516499\n",
      "36.0006 71.7211 1689516501\n",
      "36.0629 71.807 1689516502\n",
      "36.1251 71.8931 1689516504\n",
      "36.1872 71.9793 1689516505\n",
      "36.2286 72.0369 1689516506\n",
      "36.2907 72.1233 1689516508\n",
      "36.3526 72.2099 1689516509\n",
      "36.4145 72.2967 1689516511\n",
      "36.4763 72.3836 1689516512\n",
      "36.538 72.4706 1689516514\n",
      "36.5997 72.5578 1689516515\n",
      "36.6613 72.6452 1689516517\n",
      "36.7228 72.7327 1689516518\n",
      "36.7637 72.791 1689516519\n",
      "36.8251 72.8788 1689516521\n",
      "36.8864 72.9667 1689516522\n",
      "36.9477 73.0548 1689516524\n",
      "37.0088 73.143 1689516525\n",
      "37.0699 73.2313 1689516527\n",
      "37.131 73.3199 1689516528\n",
      "37.1716 73.3789 1689516529\n",
      "37.2325 73.4678 1689516531\n",
      "37.2933 73.5567 1689516532\n",
      "37.3541 73.6457 1689516534\n",
      "37.4147 73.735 1689516535\n",
      "37.4753 73.8243 1689516537\n",
      "37.5156 73.884 1689516538\n",
      "37.5761 73.9737 1689516539\n",
      "37.6365 74.0635 1689516541\n",
      "37.6968 74.1534 1689516542\n",
      "37.757 74.2435 1689516544\n",
      "37.8171 74.3338 1689516545\n",
      "37.8772 74.4242 1689516547\n",
      "37.9371 74.5148 1689516548\n",
      "37.997 74.6055 1689516550\n",
      "38.0568 74.6964 1689516551\n",
      "38.1166 74.7875 1689516553\n",
      "38.1564 74.8482 1689516554\n",
      "38.216 74.9396 1689516555\n",
      "38.2755 75.031 1689516557\n",
      "38.3349 75.1227 1689516558\n",
      "38.3943 75.2145 1689516560\n",
      "38.4536 75.3064 1689516561\n",
      "38.5128 75.3986 1689516563\n",
      "38.5719 75.4909 1689516564\n",
      "38.6113 75.5525 1689516565\n",
      "38.6702 75.645 1689516567\n",
      "38.7291 75.7377 1689516568\n",
      "38.7879 75.8306 1689516570\n",
      "38.8466 75.9237 1689516571\n",
      "38.9053 76.0169 1689516573\n",
      "38.9443 76.0791 1689516574\n",
      "39.0028 76.1726 1689516575\n",
      "39.0612 76.2662 1689516577\n",
      "39.1196 76.3601 1689516578\n",
      "39.1778 76.4541 1689516580\n",
      "39.236 76.5483 1689516581\n",
      "39.2747 76.6111 1689516582\n",
      "39.3327 76.7055 1689516584\n",
      "39.3906 76.8001 1689516585\n",
      "39.4485 76.8949 1689516587\n",
      "39.5062 76.9898 1689516588\n",
      "39.5639 77.0849 1689516590\n",
      "39.6214 77.1801 1689516591\n",
      "39.6789 77.2756 1689516593\n",
      "39.7172 77.3393 1689516594\n",
      "39.7746 77.435 1689516595\n",
      "39.8318 77.531 1689516597\n",
      "39.889 77.6271 1689516598\n",
      "39.9461 77.7233 1689516600\n",
      "40.0031 77.8198 1689516601\n",
      "40.06 77.9164 1689516603\n",
      "40.0978 77.9808 1689516604\n",
      "40.1546 78.0777 1689516605\n",
      "40.2112 78.1747 1689516607\n",
      "40.2678 78.272 1689516608\n",
      "40.3054 78.3369 1689516609\n",
      "40.3618 78.4344 1689516611\n",
      "40.4182 78.5321 1689516612\n",
      "40.4744 78.6299 1689516614\n"
     ]
    },
    {
     "data": {
      "image/png": "[encoded data removed]",
      "text/plain": [
       "<Figure size 640x480 with 1 Axes>"
      ]
     },
     "metadata": {},
     "output_type": "display_data"
    }
   ],
   "source": [
    "import requests\n",
    "import matplotlib.pyplot as plt\n",
    "import time\n",
    "\n",
    "\n",
    "coordinates = []\n",
    "timestamps = []\n",
    "num_data_points = 100\n",
    "for _ in range(num_data_points):\n",
    "    response = requests.get('http://api.open-notify.org/iss-now.json')\n",
    "    if response.status_code == 200:\n",
    "        data = response.json()\n",
    "        latitude = float(data['iss_position']['latitude'])\n",
    "        longitude = float(data['iss_position']['longitude'])\n",
    "        timestamp = int(data['timestamp'])\n",
    "        coordinates.append((longitude, latitude))\n",
    "        timestamps.append(timestamp)\n",
    "        print(latitude, longitude, timestamp)\n",
    "    else:\n",
    "        print('Error occurred while fetching ISS location.')\n",
    "    time.sleep(1)\n",
    "\n",
    "longitudes = [coord[0] for coord in coordinates]\n",
    "latitudes = [coord[1] for coord in coordinates]\n",
    "\n",
    "plt.plot(longitudes, latitudes, 'o-')\n",
    "plt.xlabel('Longitude')\n",
    "plt.ylabel('Latitude')\n",
    "plt.title('Path of the International Space Station')\n",
    "plt.grid(True)\n",
    "plt.show()"
   ]
  },
  {
   "cell_type": "code",
   "execution_count": null,
   "id": "20feb5df-e14a-4f6a-9c82-02a8d91a6d48",
   "metadata": {},
   "outputs": [],
   "source": []
  }
 ],
 "metadata": {
  "kernelspec": {
   "display_name": "Python 3 (ipykernel)",
   "language": "python",
   "name": "python3"
  },
  "language_info": {
   "codemirror_mode": {
    "name": "ipython",
    "version": 3
   },
   "file_extension": ".py",
   "mimetype": "text/x-python",
   "name": "python",
   "nbconvert_exporter": "python",
   "pygments_lexer": "ipython3",
   "version": "3.10.9"
  }
 },
 "nbformat": 4,
 "nbformat_minor": 5
}
